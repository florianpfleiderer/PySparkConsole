{
 "cells": [
  {
   "cell_type": "code",
   "execution_count": 4,
   "metadata": {},
   "outputs": [
    {
     "name": "stdout",
     "output_type": "stream",
     "text": [
      "Spark session started with version: 3.5.5\n"
     ]
    },
    {
     "name": "stderr",
     "output_type": "stream",
     "text": [
      "25/03/19 11:23:56 WARN SparkStringUtils: Truncated the string representation of a plan since it was too large. This behavior can be adjusted by setting 'spark.sql.debug.maxToStringFields'.\n"
     ]
    },
    {
     "name": "stdout",
     "output_type": "stream",
     "text": [
      "+---------------+--------------+-----------+----------------+------------+------------+-----------+-----------+-----------+-----------+-------+-----+-------+----+--------------------+------------+-----------------+-----------+-----------+----------+-------------+------------+---------------+-----------------+--------------------+-----------------------+-------------------------+----------------------+------------------------------+-------------------------+------------------------+---------------------------+-----------------------------+--------------------------------+-----------------------------------+-------------------------------------+-----------------+----------------------+-------------------+---------------+-------------------+-----------------+---------------------+------------------+---------------+----------------------+-------------------+----------------+-----------------+-----------------+------------------------+-------------------------+\n",
      "|time_identifier|year_breakdown|time_period|geographic_level|country_code|country_name|region_code|region_name|old_la_code|new_la_code|la_name|estab|laestab| urn|         school_type|academy_type|academy_open_date|all_through|num_schools|enrolments|sess_possible|sess_overall|sess_authorised|sess_unauthorised|sess_overall_percent|sess_authorised_percent|sess_unauthorised_percent|enrolments_pa_10_exact|enrolments_pa_10_exact_percent|sess_possible_pa_10_exact|sess_overall_pa_10_exact|sess_authorised_pa_10_exact|sess_unauthorised_pa_10_exact|sess_overall_percent_pa_10_exact|sess_authorised_percent_pa_10_exact|sess_unauthorised_percent_pa_10_exact|sess_auth_illness|sess_auth_appointments|sess_auth_religious|sess_auth_study|sess_auth_traveller|sess_auth_holiday|sess_auth_ext_holiday|sess_auth_excluded|sess_auth_other|sess_auth_totalreasons|sess_unauth_holiday|sess_unauth_late|sess_unauth_other|sess_unauth_noyet|sess_unauth_totalreasons|sess_overall_totalreasons|\n",
      "+---------------+--------------+-----------+----------------+------------+------------+-----------+-----------+-----------+-----------+-------+-----+-------+----+--------------------+------------+-----------------+-----------+-----------+----------+-------------+------------+---------------+-----------------+--------------------+-----------------------+-------------------------+----------------------+------------------------------+-------------------------+------------------------+---------------------------+-----------------------------+--------------------------------+-----------------------------------+-------------------------------------+-----------------+----------------------+-------------------+---------------+-------------------+-----------------+---------------------+------------------+---------------+----------------------+-------------------+----------------+-----------------+-----------------+------------------------+-------------------------+\n",
      "|  Academic year|six half terms|     201819|        National|   E92000001|     England|       NULL|       NULL|       NULL|       NULL|   NULL| NULL|   NULL|NULL|               Total|        NULL|             NULL|       NULL|      21214|   7105958|   2522300237|   119207289|       83570764|         35636525|                 4.7|                    3.3|                      1.4|                771863|                          10.9|                245677269|                46824152|                   27473608|                     19350544|                            19.1|                               11.2|                                  7.9|         62028416|               7023954|            1284288|         713116|             259678|          1673684|                    :|           2049972|        7588162|              82621270|           10265362|         1812826|         21845078|          1360377|                35283643|                117904913|\n",
      "|  Academic year|six half terms|     201819|        National|   E92000001|     England|       NULL|       NULL|       NULL|       NULL|   NULL| NULL|   NULL|NULL|State-funded primary|        NULL|             NULL|       NULL|      16780|   3985705|   1436932866|    57891483|       41461217|         16430266|                   4|                    2.9|                      1.1|                328745|                           8.2|                105485110|                16865678|                   10393866|                      6471812|                              16|                                9.9|                                  6.1|         31898103|               3173319|             770735|           1717|             193369|          1169235|                    :|            297184|        3129669|              40633331|            7231964|         1119390|          7248961|           515482|                16115797|                 56749128|\n",
      "|  Academic year|six half terms|     201819|        National|   E92000001|     England|       NULL|       NULL|       NULL|       NULL|   NULL| NULL|   NULL|NULL|State-funded seco...|        NULL|             NULL|       NULL|       3406|   3014063|   1048058779|    57537416|       39194655|         18342761|                 5.5|                    3.7|                      1.8|                412485|                          13.7|                129945099|                27255704|                   15120553|                     12135151|                              21|                               11.6|                                  9.3|         28556896|               3449142|             494590|         705855|              63475|           366820|                    :|           1694747|        3779537|              39111062|            2952013|          647194|         13902932|           815075|                18317214|                 57428276|\n",
      "|  Academic year|six half terms|     201819|        National|   E92000001|     England|       NULL|       NULL|       NULL|       NULL|   NULL| NULL|   NULL|NULL|             Special|        NULL|             NULL|       NULL|       1028|    106190|     37308592|     3778390|        2914892|           863498|                10.1|                    7.8|                      2.3|                 30633|                          28.8|                 10247060|                 2702770|                    1959189|                       743581|                            26.4|                               19.1|                                  7.3|          1573417|                401493|              18963|           5544|               2834|           137629|                    :|             58041|         678956|               2876877|              81385|           46242|           693185|            29820|                  850632|                  3727509|\n",
      "|  Academic year|six half terms|     201819|        Regional|   E92000001|     England|  E12000001| North East|       NULL|       NULL|   NULL| NULL|   NULL|NULL|               Total|        NULL|             NULL|       NULL|       1101|    332726|    118403044|     5944784|        3878412|          2066372|              5.0208|                 3.2756|                   1.7452|                 40161|                      12.07029|                 12829243|                 2486819|                    1340268|                      1146551|                        19.38399|                           10.44698|                              8.93701|          2923581|                292092|              23713|           5966|              15001|           122139|                    :|            144318|         327707|               3854517|             678388|           47244|          1263941|            70957|                 2060530|                  5915047|\n",
      "+---------------+--------------+-----------+----------------+------------+------------+-----------+-----------+-----------+-----------+-------+-----+-------+----+--------------------+------------+-----------------+-----------+-----------+----------+-------------+------------+---------------+-----------------+--------------------+-----------------------+-------------------------+----------------------+------------------------------+-------------------------+------------------------+---------------------------+-----------------------------+--------------------------------+-----------------------------------+-------------------------------------+-----------------+----------------------+-------------------+---------------+-------------------+-----------------+---------------------+------------------+---------------+----------------------+-------------------+----------------+-----------------+-----------------+------------------------+-------------------------+\n",
      "only showing top 5 rows\n",
      "\n"
     ]
    }
   ],
   "source": [
    "from pyspark.sql import SparkSession\n",
    "\n",
    "# Create or retrieve the Spark session\n",
    "spark = SparkSession.builder \\\n",
    "    .appName(\"CS5052 Data Analysis\") \\\n",
    "    .getOrCreate()\n",
    "\n",
    "# Set the log level to WARN to reduce log output\n",
    "spark.sparkContext.setLogLevel(\"WARN\")\n",
    "\n",
    "# Print Spark session version to verify it's running\n",
    "print(f\"Spark session started with version: {spark.version}\")\n",
    "\n",
    "# Read the dataset\n",
    "raw_data = spark.read.csv(\"../data/raw/Absence_3term201819_nat_reg_la_sch.csv\", header=True)\n",
    "\n",
    "# Show initial data sample\n",
    "raw_data.show(5)"
   ]
  },
  {
   "cell_type": "code",
   "execution_count": 45,
   "metadata": {},
   "outputs": [
    {
     "name": "stdout",
     "output_type": "stream",
     "text": [
      "+---------------+--------------+-----------+----------------+------------+------------+-----------+--------------------+-----------+-----------+--------------------+-----+-------+----+--------------------+------------+-----------------+-----------+-----------+----------+-------------+------------+---------------+-----------------+--------------------+-----------------------+-------------------------+----------------------+------------------------------+-------------------------+------------------------+---------------------------+-----------------------------+--------------------------------+-----------------------------------+-------------------------------------+-----------------+----------------------+-------------------+---------------+-------------------+-----------------+---------------------+------------------+---------------+----------------------+-------------------+----------------+-----------------+-----------------+------------------------+-------------------------+\n",
      "|time_identifier|year_breakdown|time_period|geographic_level|country_code|country_name|region_code|         region_name|old_la_code|new_la_code|             la_name|estab|laestab| urn|         school_type|academy_type|academy_open_date|all_through|num_schools|enrolments|sess_possible|sess_overall|sess_authorised|sess_unauthorised|sess_overall_percent|sess_authorised_percent|sess_unauthorised_percent|enrolments_pa_10_exact|enrolments_pa_10_exact_percent|sess_possible_pa_10_exact|sess_overall_pa_10_exact|sess_authorised_pa_10_exact|sess_unauthorised_pa_10_exact|sess_overall_percent_pa_10_exact|sess_authorised_percent_pa_10_exact|sess_unauthorised_percent_pa_10_exact|sess_auth_illness|sess_auth_appointments|sess_auth_religious|sess_auth_study|sess_auth_traveller|sess_auth_holiday|sess_auth_ext_holiday|sess_auth_excluded|sess_auth_other|sess_auth_totalreasons|sess_unauth_holiday|sess_unauth_late|sess_unauth_other|sess_unauth_noyet|sess_unauth_totalreasons|sess_overall_totalreasons|\n",
      "+---------------+--------------+-----------+----------------+------------+------------+-----------+--------------------+-----------+-----------+--------------------+-----+-------+----+--------------------+------------+-----------------+-----------+-----------+----------+-------------+------------+---------------+-----------------+--------------------+-----------------------+-------------------------+----------------------+------------------------------+-------------------------+------------------------+---------------------------+-----------------------------+--------------------------------+-----------------------------------+-------------------------------------+-----------------+----------------------+-------------------+---------------+-------------------+-----------------+---------------------+------------------+---------------+----------------------+-------------------+----------------+-----------------+-----------------+------------------------+-------------------------+\n",
      "|  Academic year|six half terms|     201819| Local authority|   E92000001|     England|  E13000002|        Outer London|        301|  E09000002|Barking and Dagenham| NULL|   NULL|NULL|               Total|        NULL|             NULL|       NULL|         59|     37860|     13204460|      601158|         367817|           233341|             4.55269|                2.78555|                  1.76714|                  4251|                      11.22821|                  1332370|                  232517|                     109775|                       122742|                        17.45138|                            8.23908|                              9.21231|           277392|                 34911|              12470|            117|                 49|             4838|                    :|              6019|          32021|                367817|              43961|            9095|           170066|            10219|                  233341|                   601158|\n",
      "|  Academic year|six half terms|     201819| Local authority|   E92000001|     England|  E13000002|        Outer London|        301|  E09000002|Barking and Dagenham| NULL|   NULL|NULL|State-funded primary|        NULL|             NULL|       NULL|         44|     22286|      7795050|      313626|         195068|           118558|              4.0234|                2.50246|                  1.52094|                  2053|                       9.21206|                   636893|                   94998|                      46247|                        48751|                        14.91585|                            7.26135|                               7.6545|           155726|                 14071|               8025|              0|                 48|             2103|                    :|               990|          14105|                195068|              33211|            2655|            80509|             2183|                  118558|                   313626|\n",
      "|  Academic year|six half terms|     201819| Local authority|   E92000001|     England|  E13000002|        Outer London|        301|  E09000002|Barking and Dagenham| NULL|   NULL|NULL|State-funded seco...|        NULL|             NULL|       NULL|         13|     15190|      5273027|      276538|         162950|           113588|             5.24439|                3.09026|                  2.15413|                  2099|                       13.8183|                   661394|                  130485|                      57347|                        73138|                        19.72878|                            8.67063|                             11.05816|           116908|                 18847|               4275|            117|                  1|             1884|                    :|              4732|          16186|                162950|              10692|            6440|            88565|             7891|                  113588|                   276538|\n",
      "|  Academic year|six half terms|     201819| Local authority|   E92000001|     England|  E13000002|        Outer London|        301|  E09000002|Barking and Dagenham| NULL|   NULL|NULL|             Special|        NULL|             NULL|       NULL|          2|       384|       136383|       10994|           9799|             1195|             8.06112|                7.18491|                  0.87621|                    99|                      25.78125|                    34083|                    7034|                       6181|                          853|                        20.63785|                           18.13514|                              2.50271|             4758|                  1993|                170|              0|                  0|              851|                    :|               297|           1730|                  9799|                 58|               0|              992|              145|                    1195|                    10994|\n",
      "|  Academic year|six half terms|     201819| Local authority|   E92000001|     England|  E13000002|        Outer London|        302|  E09000003|              Barnet| NULL|   NULL|NULL|             Special|        NULL|             NULL|       NULL|          6|       439|       156352|       18076|          14864|             3212|            11.56109|                9.50675|                  2.05434|                   145|                      33.02961|                    49349|                   13842|                      10710|                         3132|                         28.0492|                           21.70257|                              6.34663|             7298|                  2504|                277|             57|                  0|              513|                    :|               281|           3934|                 14864|                 12|             765|             2435|                0|                    3212|                    18076|\n",
      "|  Academic year|six half terms|     201819| Local authority|   E92000001|     England|  E13000002|        Outer London|        302|  E09000003|              Barnet| NULL|   NULL|NULL|               Total|        NULL|             NULL|       NULL|        124|     49428|     17299615|      729603|         580633|           148970|             4.21745|                3.35633|                  0.86112|                  4046|                       8.18564|                  1270097|                  221865|                     148402|                        73463|                        17.46835|                            11.6843|                              5.78405|           407893|                 59094|              22555|          11673|                 66|            11226|                    :|             10232|          57894|                580633|              25334|           11689|            98363|            13584|                  148970|                   729603|\n",
      "|  Academic year|six half terms|     201819| Local authority|   E92000001|     England|  E13000002|        Outer London|        302|  E09000003|              Barnet| NULL|   NULL|NULL|State-funded primary|        NULL|             NULL|       NULL|         91|     26611|      9447748|      352733|         285515|            67218|             3.73351|                3.02204|                  0.71147|                  1791|                        6.7303|                   566649|                   84800|                      58843|                        25957|                        14.96517|                           10.38438|                              4.58079|           207607|                 25321|              13821|             40|                 62|             8895|                    :|               859|          28910|                285515|              15921|            7051|            36835|             7411|                   67218|                   352733|\n",
      "|  Academic year|six half terms|     201819| Local authority|   E92000001|     England|  E13000002|        Outer London|        302|  E09000003|              Barnet| NULL|   NULL|NULL|State-funded seco...|        NULL|             NULL|       NULL|         27|     22378|      7695515|      358794|         280254|            78540|             4.66238|                3.64178|                  1.02059|                  2110|                        9.4289|                   654099|                  123223|                      78849|                        44374|                        18.83859|                            12.0546|                              6.78399|           192988|                 31269|               8457|          11576|                  4|             1818|                    :|              9092|          25050|                280254|               9401|            3873|            59093|             6173|                   78540|                   358794|\n",
      "|  Academic year|six half terms|     201819| Local authority|   E92000001|     England|  E12000003|Yorkshire and the...|        370|  E08000016|            Barnsley| NULL|   NULL|NULL|               Total|        NULL|             NULL|       NULL|         89|     30045|     10817699|      579761|         329505|           250256|             5.35937|                3.04598|                  2.31339|                  3938|                      13.10701|                  1288177|                  259041|                     131007|                       128034|                        20.10912|                           10.16995|                              9.93916|           240464|                 25929|                564|            619|               3321|             3845|                    :|             17038|          36810|                328590|              94411|            5895|           147509|             2352|                  250167|                   578757|\n",
      "|  Academic year|six half terms|     201819| Local authority|   E92000001|     England|  E12000003|Yorkshire and the...|        370|  E08000016|            Barnsley| NULL|   NULL|NULL|State-funded primary|        NULL|             NULL|       NULL|         77|     17430|      6398265|      289769|         176960|           112809|             4.52887|                2.76575|                  1.76312|                  1710|                       9.81067|                   575074|                   91865|                      52187|                        39678|                        15.97447|                            9.07483|                              6.89963|           140581|                 14700|                414|             60|               2869|             3247|                    :|              1658|          12516|                176045|              66757|            3886|            40286|             1791|                  112720|                   288765|\n",
      "|  Academic year|six half terms|     201819| Local authority|   E92000001|     England|  E12000003|Yorkshire and the...|        370|  E08000016|            Barnsley| NULL|   NULL|NULL|State-funded seco...|        NULL|             NULL|       NULL|         10|     12252|      4293458|      280675|         146086|           134589|             6.53727|                3.40253|                  3.13475|                  2151|                      17.55632|                   688493|                  161470|                      75149|                        86321|                        23.45267|                             10.915|                             12.53767|            95672|                  9808|                142|            559|                452|              598|                    :|             15372|          23483|                146086|              26585|            1972|           105487|              545|                  134589|                   280675|\n",
      "|  Academic year|six half terms|     201819| Local authority|   E92000001|     England|  E12000003|Yorkshire and the...|        370|  E08000016|            Barnsley| NULL|   NULL|NULL|             Special|        NULL|             NULL|       NULL|          2|       363|       125976|        9317|           6459|             2858|             7.39585|                5.12717|                  2.26869|                    77|                      21.21212|                    24610|                    5706|                       3671|                         2035|                         23.1857|                            14.9167|                                8.269|             4211|                  1421|                  8|              0|                  0|                0|                    :|                 8|            811|                  6459|               1069|              37|             1736|               16|                    2858|                     9317|\n",
      "|  Academic year|six half terms|     201819| Local authority|   E92000001|     England|  E12000009|          South West|        800|  E06000022|Bath and North Ea...| NULL|   NULL|NULL|               Total|        NULL|             NULL|       NULL|         82|     24647|      8173577|      415931|         326267|            89664|             5.08873|                3.99173|                    1.097|                  2786|                      11.30361|                   810866|                  169397|                     117298|                        52099|                        20.89087|                           14.46577|                              6.42511|           235523|                 29455|                825|           5527|                280|             8087|                    :|              7416|          36818|                323931|              24934|            7429|            54883|             1744|                   88990|                   412921|\n",
      "|  Academic year|six half terms|     201819| Local authority|   E92000001|     England|  E12000009|          South West|        800|  E06000022|Bath and North Ea...| NULL|   NULL|NULL|State-funded primary|        NULL|             NULL|       NULL|         63|     11906|      4093284|      163188|         130003|            33185|             3.98673|                3.17601|                  0.81072|                   890|                       7.47522|                   270890|                   42318|                      30996|                        11322|                        15.62184|                           11.44228|                              4.17956|           100284|                 10694|                535|             70|                166|             5454|                    :|               655|          12145|                130003|              17059|            3412|            11678|             1036|                   33185|                   163188|\n",
      "|  Academic year|six half terms|     201819| Local authority|   E92000001|     England|  E12000009|          South West|        800|  E06000022|Bath and North Ea...| NULL|   NULL|NULL|State-funded seco...|        NULL|             NULL|       NULL|         16|     12358|      3942526|      239785|         184918|            54867|             6.08201|                4.69034|                  1.39167|                  1786|                      14.45218|                   501114|                  118089|                      78671|                        39418|                         23.5653|                           15.69922|                              7.86607|           129141|                 16964|                280|           5453|                114|             1344|                    :|              6586|          22700|                182582|               7834|            3574|            42170|              615|                   54193|                   236775|\n",
      "|  Academic year|six half terms|     201819| Local authority|   E92000001|     England|  E12000009|          South West|        800|  E06000022|Bath and North Ea...| NULL|   NULL|NULL|             Special|        NULL|             NULL|       NULL|          3|       383|       137767|       12958|          11346|             1612|             9.40574|                8.23564|                  1.17009|                   110|                      28.72063|                    38862|                    8990|                       7631|                         1359|                        23.13314|                           19.63615|                              3.49699|             6098|                  1797|                 10|              4|                  0|             1289|                    :|               175|           1973|                 11346|                 41|             443|             1035|               93|                    1612|                    12958|\n",
      "|  Academic year|six half terms|     201819| Local authority|   E92000001|     England|  E12000006|     East of England|        822|  E06000055|             Bedford| NULL|   NULL|NULL|               Total|        NULL|             NULL|       NULL|         71|     24554|      8754755|      385983|         277550|           108433|             4.40884|                3.17028|                  1.23856|                  2431|                       9.90063|                   760662|                  134546|                      79121|                        55425|                        17.68801|                            10.4016|                              7.28642|           217664|                 24482|               5764|            545|                746|             3951|                    :|              5977|          18421|                277550|              34823|            7464|            62141|             4005|                  108433|                   385983|\n",
      "|  Academic year|six half terms|     201819| Local authority|   E92000001|     England|  E12000006|     East of England|        822|  E06000055|             Bedford| NULL|   NULL|NULL|State-funded primary|        NULL|             NULL|       NULL|         54|     13862|      4986893|      187889|         138203|            49686|             3.76766|                2.77132|                  0.99633|                   986|                       7.11297|                   299715|                   47159|                      29276|                        17883|                        15.73461|                            9.76795|                              5.96667|           111014|                 10763|               3934|              2|                539|             2563|                    :|              1398|           7990|                138203|              24479|            3503|            18995|             2709|                   49686|                   187889|\n",
      "|  Academic year|six half terms|     201819| Local authority|   E92000001|     England|  E12000006|     East of England|        822|  E06000055|             Bedford| NULL|   NULL|NULL|State-funded seco...|        NULL|             NULL|       NULL|         14|     10373|      3653501|      189120|         131994|            57126|              5.1764|                3.61281|                   1.5636|                  1361|                       13.1206|                   432219|                   81692|                      45471|                        36221|                         18.9006|                           10.52036|                              8.38024|           102081|                 12616|               1754|            543|                207|              768|                    :|              4380|           9645|                131994|              10165|            3953|            41733|             1275|                   57126|                   189120|\n",
      "|  Academic year|six half terms|     201819| Local authority|   E92000001|     England|  E12000006|     East of England|        822|  E06000055|             Bedford| NULL|   NULL|NULL|             Special|        NULL|             NULL|       NULL|          3|       319|       114361|        8974|           7353|             1621|             7.84708|                6.42964|                  1.41744|                    84|                      26.33229|                    28728|                    5695|                       4374|                         1321|                        19.82387|                           15.22556|                               4.5983|             4569|                  1103|                 76|              0|                  0|              620|                    :|               199|            786|                  7353|                179|               8|             1413|               21|                    1621|                     8974|\n",
      "+---------------+--------------+-----------+----------------+------------+------------+-----------+--------------------+-----------+-----------+--------------------+-----+-------+----+--------------------+------------+-----------------+-----------+-----------+----------+-------------+------------+---------------+-----------------+--------------------+-----------------------+-------------------------+----------------------+------------------------------+-------------------------+------------------------+---------------------------+-----------------------------+--------------------------------+-----------------------------------+-------------------------------------+-----------------+----------------------+-------------------+---------------+-------------------+-----------------+---------------------+------------------+---------------+----------------------+-------------------+----------------+-----------------+-----------------+------------------------+-------------------------+\n",
      "only showing top 20 rows\n",
      "\n"
     ]
    }
   ],
   "source": [
    "# Read the dataset and filter for Regional level\n",
    "regional_data = raw_data.filter((raw_data.geographic_level == 'Local authority') & \n",
    "                               (raw_data.time_period == '201819')).orderBy(\"la_name\")\n",
    "\n",
    "# Show the filtered results\n",
    "regional_data.show()"
   ]
  },
  {
   "cell_type": "code",
   "execution_count": 50,
   "metadata": {},
   "outputs": [
    {
     "name": "stdout",
     "output_type": "stream",
     "text": [
      "+---------------+\n",
      "|sum(enrolments)|\n",
      "+---------------+\n",
      "|        60090.0|\n",
      "+---------------+\n",
      "\n",
      "+---------------+\n",
      "|sum(enrolments)|\n",
      "+---------------+\n",
      "|        30045.0|\n",
      "+---------------+\n",
      "\n",
      "+---------------+\n",
      "|sum(enrolments)|\n",
      "+---------------+\n",
      "|        30045.0|\n",
      "+---------------+\n",
      "\n"
     ]
    }
   ],
   "source": [
    "# Read the dataset and filter for Regional level\n",
    "regional_data = raw_data.filter((raw_data.geographic_level == 'Local authority') & \n",
    "                               (raw_data.time_period == '201819') & \n",
    "                               (raw_data.la_name == \"Barnsley\")).agg({'enrolments': 'sum'})\n",
    "regional_data.show()\n",
    "\n",
    "regional_data = raw_data.filter((raw_data.geographic_level == 'Local authority') & \n",
    "                                (raw_data.school_type == 'Total') &\n",
    "                               (raw_data.time_period == '201819') & \n",
    "                               (raw_data.la_name == \"Barnsley\")).agg({'enrolments': 'sum'})\n",
    "\n",
    "regional_data.show()\n",
    "\n",
    "regional_data = raw_data.filter((raw_data.geographic_level == 'Local authority') & \n",
    "                                (raw_data.school_type != 'Total') &\n",
    "                               (raw_data.time_period == '201819') & \n",
    "                               (raw_data.la_name == \"Barnsley\")).agg({'enrolments': 'sum'})\n",
    "\n",
    "regional_data.show()\n"
   ]
  },
  {
   "cell_type": "code",
   "execution_count": null,
   "metadata": {},
   "outputs": [],
   "source": []
  }
 ],
 "metadata": {
  "kernelspec": {
   "display_name": "venv",
   "language": "python",
   "name": "python3"
  },
  "language_info": {
   "codemirror_mode": {
    "name": "ipython",
    "version": 3
   },
   "file_extension": ".py",
   "mimetype": "text/x-python",
   "name": "python",
   "nbconvert_exporter": "python",
   "pygments_lexer": "ipython3",
   "version": "3.9.21"
  }
 },
 "nbformat": 4,
 "nbformat_minor": 2
}
