{
 "cells": [
  {
   "cell_type": "code",
   "execution_count": 82,
   "metadata": {},
   "outputs": [],
   "source": [
    "from pyspark.sql import SparkSession\n",
    "\n",
    "app_name = \"Absence Analysis\"\n",
    "\n",
    "spark = SparkSession.builder.master(\"local[*]\").appName(app_name).getOrCreate()"
   ]
  },
  {
   "cell_type": "code",
   "execution_count": 83,
   "metadata": {},
   "outputs": [
    {
     "name": "stderr",
     "output_type": "stream",
     "text": [
      "[Stage 293:====================================================>  (21 + 1) / 22]\r"
     ]
    },
    {
     "name": "stdout",
     "output_type": "stream",
     "text": [
      "root\n",
      " |-- time_identifier: string (nullable = true)\n",
      " |-- year_breakdown: string (nullable = true)\n",
      " |-- time_period: integer (nullable = true)\n",
      " |-- geographic_level: string (nullable = true)\n",
      " |-- country_code: string (nullable = true)\n",
      " |-- country_name: string (nullable = true)\n",
      " |-- region_code: string (nullable = true)\n",
      " |-- region_name: string (nullable = true)\n",
      " |-- old_la_code: integer (nullable = true)\n",
      " |-- new_la_code: string (nullable = true)\n",
      " |-- la_name: string (nullable = true)\n",
      " |-- estab: integer (nullable = true)\n",
      " |-- laestab: integer (nullable = true)\n",
      " |-- urn: string (nullable = true)\n",
      " |-- school_type: string (nullable = true)\n",
      " |-- academy_type: string (nullable = true)\n",
      " |-- academy_open_date: string (nullable = true)\n",
      " |-- all_through: string (nullable = true)\n",
      " |-- num_schools: integer (nullable = true)\n",
      " |-- enrolments: integer (nullable = true)\n",
      " |-- sess_possible: long (nullable = true)\n",
      " |-- sess_overall: integer (nullable = true)\n",
      " |-- sess_authorised: integer (nullable = true)\n",
      " |-- sess_unauthorised: integer (nullable = true)\n",
      " |-- sess_overall_percent: double (nullable = true)\n",
      " |-- sess_authorised_percent: double (nullable = true)\n",
      " |-- sess_unauthorised_percent: double (nullable = true)\n",
      " |-- enrolments_pa_10_exact: integer (nullable = true)\n",
      " |-- enrolments_pa_10_exact_percent: double (nullable = true)\n",
      " |-- sess_possible_pa_10_exact: integer (nullable = true)\n",
      " |-- sess_overall_pa_10_exact: integer (nullable = true)\n",
      " |-- sess_authorised_pa_10_exact: integer (nullable = true)\n",
      " |-- sess_unauthorised_pa_10_exact: integer (nullable = true)\n",
      " |-- sess_overall_percent_pa_10_exact: double (nullable = true)\n",
      " |-- sess_authorised_percent_pa_10_exact: double (nullable = true)\n",
      " |-- sess_unauthorised_percent_pa_10_exact: double (nullable = true)\n",
      " |-- sess_auth_illness: integer (nullable = true)\n",
      " |-- sess_auth_appointments: integer (nullable = true)\n",
      " |-- sess_auth_religious: integer (nullable = true)\n",
      " |-- sess_auth_study: integer (nullable = true)\n",
      " |-- sess_auth_traveller: integer (nullable = true)\n",
      " |-- sess_auth_holiday: integer (nullable = true)\n",
      " |-- sess_auth_ext_holiday: string (nullable = true)\n",
      " |-- sess_auth_excluded: integer (nullable = true)\n",
      " |-- sess_auth_other: integer (nullable = true)\n",
      " |-- sess_auth_totalreasons: integer (nullable = true)\n",
      " |-- sess_unauth_holiday: integer (nullable = true)\n",
      " |-- sess_unauth_late: integer (nullable = true)\n",
      " |-- sess_unauth_other: integer (nullable = true)\n",
      " |-- sess_unauth_noyet: integer (nullable = true)\n",
      " |-- sess_unauth_totalreasons: integer (nullable = true)\n",
      " |-- sess_overall_totalreasons: integer (nullable = true)\n",
      "\n"
     ]
    },
    {
     "name": "stderr",
     "output_type": "stream",
     "text": [
      "                                                                                \r"
     ]
    }
   ],
   "source": [
    "# Load the data\n",
    "df = spark.read.csv('../data/raw/Absence_3term201819_nat_reg_la_sch.csv', header=True, inferSchema=True)\n",
    "df = df.sample(fraction=1.0)\n",
    "df.printSchema()"
   ]
  },
  {
   "cell_type": "code",
   "execution_count": 95,
   "metadata": {},
   "outputs": [
    {
     "name": "stdout",
     "output_type": "stream",
     "text": [
      "Data type of sess_auth_ext_holiday: IntegerType()\n",
      "+---------------------+\n",
      "|sess_auth_ext_holiday|\n",
      "+---------------------+\n",
      "|                   -1|\n",
      "|                  463|\n",
      "|                  148|\n",
      "|                  737|\n",
      "|                   31|\n",
      "+---------------------+\n",
      "only showing top 5 rows\n",
      "\n",
      "+---------------+--------------+-----------+----------------+------------+------------+-----------+-----------+-----------+-----------+-------+-----+-------+-------+--------------------+------------+-----------------+-----------+-----------+----------+-------------+------------+---------------+-----------------+--------------------+-----------------------+-------------------------+----------------------+------------------------------+-------------------------+------------------------+---------------------------+-----------------------------+--------------------------------+-----------------------------------+-------------------------------------+-----------------+----------------------+-------------------+---------------+-------------------+-----------------+---------------------+------------------+---------------+----------------------+-------------------+----------------+-----------------+-----------------+------------------------+-------------------------+\n",
      "|time_identifier|year_breakdown|time_period|geographic_level|country_code|country_name|region_code|region_name|old_la_code|new_la_code|la_name|estab|laestab|    urn|         school_type|academy_type|academy_open_date|all_through|num_schools|enrolments|sess_possible|sess_overall|sess_authorised|sess_unauthorised|sess_overall_percent|sess_authorised_percent|sess_unauthorised_percent|enrolments_pa_10_exact|enrolments_pa_10_exact_percent|sess_possible_pa_10_exact|sess_overall_pa_10_exact|sess_authorised_pa_10_exact|sess_unauthorised_pa_10_exact|sess_overall_percent_pa_10_exact|sess_authorised_percent_pa_10_exact|sess_unauthorised_percent_pa_10_exact|sess_auth_illness|sess_auth_appointments|sess_auth_religious|sess_auth_study|sess_auth_traveller|sess_auth_holiday|sess_auth_ext_holiday|sess_auth_excluded|sess_auth_other|sess_auth_totalreasons|sess_unauth_holiday|sess_unauth_late|sess_unauth_other|sess_unauth_noyet|sess_unauth_totalreasons|sess_overall_totalreasons|\n",
      "+---------------+--------------+-----------+----------------+------------+------------+-----------+-----------+-----------+-----------+-------+-----+-------+-------+--------------------+------------+-----------------+-----------+-----------+----------+-------------+------------+---------------+-----------------+--------------------+-----------------------+-------------------------+----------------------+------------------------------+-------------------------+------------------------+---------------------------+-----------------------------+--------------------------------+-----------------------------------+-------------------------------------+-----------------+----------------------+-------------------+---------------+-------------------+-----------------+---------------------+------------------+---------------+----------------------+-------------------+----------------+-----------------+-----------------+------------------------+-------------------------+\n",
      "|  Academic year|six half terms|     201819|        National|   E92000001|     England|    MISSING|    MISSING|         -1|    MISSING|MISSING|   -1|     -1|MISSING|               Total|     MISSING|          MISSING|    MISSING|      21214|   7105958|   2522300237|   119207289|       83570764|         35636525|                 4.7|                    3.3|                      1.4|                771863|                          10.9|                245677269|                46824152|                   27473608|                     19350544|                            19.1|                               11.2|                                  7.9|         62028416|               7023954|            1284288|         713116|             259678|          1673684|                   -1|           2049972|        7588162|              82621270|           10265362|         1812826|         21845078|          1360377|                35283643|                117904913|\n",
      "|  Academic year|six half terms|     201819|        National|   E92000001|     England|    MISSING|    MISSING|         -1|    MISSING|MISSING|   -1|     -1|MISSING|State-funded primary|     MISSING|          MISSING|    MISSING|      16780|   3985705|   1436932866|    57891483|       41461217|         16430266|                 4.0|                    2.9|                      1.1|                328745|                           8.2|                105485110|                16865678|                   10393866|                      6471812|                            16.0|                                9.9|                                  6.1|         31898103|               3173319|             770735|           1717|             193369|          1169235|                   -1|            297184|        3129669|              40633331|            7231964|         1119390|          7248961|           515482|                16115797|                 56749128|\n",
      "|  Academic year|six half terms|     201819|        National|   E92000001|     England|    MISSING|    MISSING|         -1|    MISSING|MISSING|   -1|     -1|MISSING|State-funded seco...|     MISSING|          MISSING|    MISSING|       3406|   3014063|   1048058779|    57537416|       39194655|         18342761|                 5.5|                    3.7|                      1.8|                412485|                          13.7|                129945099|                27255704|                   15120553|                     12135151|                            21.0|                               11.6|                                  9.3|         28556896|               3449142|             494590|         705855|              63475|           366820|                   -1|           1694747|        3779537|              39111062|            2952013|          647194|         13902932|           815075|                18317214|                 57428276|\n",
      "|  Academic year|six half terms|     201819|        National|   E92000001|     England|    MISSING|    MISSING|         -1|    MISSING|MISSING|   -1|     -1|MISSING|             Special|     MISSING|          MISSING|    MISSING|       1028|    106190|     37308592|     3778390|        2914892|           863498|                10.1|                    7.8|                      2.3|                 30633|                          28.8|                 10247060|                 2702770|                    1959189|                       743581|                            26.4|                               19.1|                                  7.3|          1573417|                401493|              18963|           5544|               2834|           137629|                   -1|             58041|         678956|               2876877|              81385|           46242|           693185|            29820|                  850632|                  3727509|\n",
      "|  Academic year|six half terms|     201819|        Regional|   E92000001|     England|  E12000001| North East|         -1|    MISSING|MISSING|   -1|     -1|MISSING|               Total|     MISSING|          MISSING|    MISSING|       1101|    332726|    118403044|     5944784|        3878412|          2066372|              5.0208|                 3.2756|                   1.7452|                 40161|                      12.07029|                 12829243|                 2486819|                    1340268|                      1146551|                        19.38399|                           10.44698|                              8.93701|          2923581|                292092|              23713|           5966|              15001|           122139|                   -1|            144318|         327707|               3854517|             678388|           47244|          1263941|            70957|                 2060530|                  5915047|\n",
      "|  Academic year|six half terms|     201819|        Regional|   E92000001|     England|  E12000001| North East|         -1|    MISSING|MISSING|   -1|     -1|MISSING|State-funded primary|     MISSING|          MISSING|    MISSING|        859|    179170|     65357086|     2696641|        1851043|           845598|             4.12601|                 2.8322|                  1.29381|                 15319|                       8.54998|                  5005880|                  764173|                     461389|                       302784|                        15.26551|                            9.21694|                              6.04857|          1492666|                133382|              15398|             26|              12747|            83933|                   -1|             10535|          98084|               1846771|             459285|           32966|           321284|            30323|                  843858|                  2690629|\n",
      "|  Academic year|six half terms|     201819|        Regional|   E92000001|     England|  E12000001| North East|         -1|    MISSING|MISSING|   -1|     -1|MISSING|State-funded seco...|     MISSING|          MISSING|    MISSING|        177|    146645|     50631376|     3009763|        1863196|          1146567|             5.94446|                3.67992|                  2.26454|                 22931|                      15.63708|                  7197840|                 1551329|                     772633|                       778696|                         21.5527|                           10.73423|                             10.81847|          1342954|                137347|               7795|           5694|               2242|            29111|                   -1|            130468|         192024|               1847635|             212111|           12138|           880688|            39062|                 1143999|                  2991634|\n",
      "|  Academic year|six half terms|     201819|        Regional|   E92000001|     England|  E12000001| North East|         -1|    MISSING|MISSING|   -1|     -1|MISSING|             Special|     MISSING|          MISSING|    MISSING|         65|      6911|      2414582|      238380|         164173|            74207|             9.87252|                6.79923|                  3.07329|                  1911|                      27.65157|                   625523|                  171317|                     106246|                        65071|                         27.3878|                           16.98515|                             10.40266|            87961|                 21363|                520|            246|                 12|             9095|                   -1|              3315|          37599|                160111|               6992|            2140|            61969|             1572|                   72673|                   232784|\n",
      "|  Academic year|six half terms|     201819|        Regional|   E92000001|     England|  E12000002| North West|         -1|    MISSING|MISSING|   -1|     -1|MISSING|               Total|     MISSING|          MISSING|    MISSING|       3082|    969491|    345899014|    16342791|       10928244|          5414547|             4.72473|                3.15937|                  1.56535|                106917|                      11.02816|                 34382488|                 6611225|                    3638326|                      2972899|                        19.22847|                           10.58192|                              8.64655|          8247977|                942460|             151113|          76592|              26622|           238433|                   -1|            275001|         942457|              10900655|            1620010|          301298|          3264550|           218167|                 5404025|                 16304680|\n",
      "|  Academic year|six half terms|     201819|        Regional|   E92000001|     England|  E12000002| North West|         -1|    MISSING|MISSING|   -1|     -1|MISSING|State-funded primary|     MISSING|          MISSING|    MISSING|       2449|    544438|    198029384|     7874252|        5431285|          2442967|              3.9763|                2.74267|                  1.23364|                 45134|                       8.29002|                 14827194|                 2333398|                    1366393|                       967005|                        15.73729|                            9.21545|                              6.52183|          4297894|                453898|              80057|            185|              22829|           173029|                   -1|             37945|         362652|               5428489|            1133821|          185177|          1038888|            83628|                 2441514|                  7870003|\n",
      "+---------------+--------------+-----------+----------------+------------+------------+-----------+-----------+-----------+-----------+-------+-----+-------+-------+--------------------+------------+-----------------+-----------+-----------+----------+-------------+------------+---------------+-----------------+--------------------+-----------------------+-------------------------+----------------------+------------------------------+-------------------------+------------------------+---------------------------+-----------------------------+--------------------------------+-----------------------------------+-------------------------------------+-----------------+----------------------+-------------------+---------------+-------------------+-----------------+---------------------+------------------+---------------+----------------------+-------------------+----------------+-----------------+-----------------+------------------------+-------------------------+\n",
      "\n"
     ]
    }
   ],
   "source": [
    "# data cleaning\n",
    "from pyspark.sql.types import StringType\n",
    "from pyspark.sql.types import IntegerType\n",
    "from pyspark.sql.functions import col\n",
    "\n",
    "df_cat = [col.name for col in df.schema.fields if isinstance(col.dataType, StringType)]\n",
    "df_num = [col.name for col in df.schema.fields if col.name not in df_cat]\n",
    "df = df.fillna('MISSING', subset=df_cat)\n",
    "df = df.fillna(-1, subset=df_num)\n",
    "\n",
    "# Replace \":\" with \"-1\" first\n",
    "df = df.replace(\":\", \"-1\", subset=\"sess_auth_ext_holiday\")\n",
    "\n",
    "df = df.withColumn(\"sess_auth_ext_holiday\", col(\"sess_auth_ext_holiday\").cast(IntegerType()))\n",
    "print(\"Data type of sess_auth_ext_holiday:\", df.schema[\"sess_auth_ext_holiday\"].dataType)\n",
    "df.select(\"sess_auth_ext_holiday\").distinct().show(5)\n",
    "\n",
    "df.limit(10).show()"
   ]
  },
  {
   "cell_type": "code",
   "execution_count": 85,
   "metadata": {},
   "outputs": [
    {
     "name": "stdout",
     "output_type": "stream",
     "text": [
      "List of Local Authorities:\n",
      "+--------------+-----------+---------------+\n",
      "|       la_name|time_period|sum(enrolments)|\n",
      "+--------------+-----------+---------------+\n",
      "|North Tyneside|     201819|          77112|\n",
      "|   Oxfordshire|     201819|         245589|\n",
      "|        Bolton|     201819|         132495|\n",
      "|North Tyneside|     201718|          75786|\n",
      "|   Oxfordshire|     201718|         239703|\n",
      "|        Bolton|     201718|         133002|\n",
      "+--------------+-----------+---------------+\n",
      "\n"
     ]
    }
   ],
   "source": [
    "# first query from practical\n",
    "# local authority, time period, sum of enrolments\n",
    "p1_cols = ['la_name', 'time_period', 'enrolments']\n",
    "list_of_las = df.select(\"la_name\").distinct().collect()\n",
    "print(\"List of Local Authorities:\")\n",
    "# for la in list_of_las[:10]:\n",
    "#     print(la.la_name)\n",
    "\n",
    "df.filter(df.la_name.isin([la.la_name for la in list_of_las[:3]]))\\\n",
    "    .filter(df.time_period > 201617)\\\n",
    "        .groupBy('la_name', 'time_period').sum('enrolments').show()\n"
   ]
  },
  {
   "cell_type": "code",
   "execution_count": 86,
   "metadata": {},
   "outputs": [
    {
     "name": "stdout",
     "output_type": "stream",
     "text": [
      "List of School Types:\n",
      "+--------------------+-----------+--------------------+\n",
      "|         school_type|time_period|sum(sess_authorised)|\n",
      "+--------------------+-----------+--------------------+\n",
      "|State-funded primary|     200607|           189763420|\n",
      "|               Total|     200607|           320136897|\n",
      "|             Special|     200607|             7380096|\n",
      "|State-funded seco...|     200607|           229705680|\n",
      "+--------------------+-----------+--------------------+\n",
      "\n"
     ]
    }
   ],
   "source": [
    "# school type\n",
    "p1_cols = ['school_type', 'time_period', 'sess_authorised']\n",
    "list_of_school_types = df.select(\"school_type\").distinct().collect()\n",
    "print(\"List of School Types:\")\n",
    "# for school_type in list_of_school_types:\n",
    "#     print(school_type.school_type)\n",
    "\n",
    "df.filter(df.school_type.isin([school_type.school_type for school_type in list_of_school_types]))\\\n",
    "    .filter(df.time_period < 200708)\\\n",
    "        .groupBy(df.school_type, df.time_period).sum('sess_authorised').show()"
   ]
  },
  {
   "cell_type": "code",
   "execution_count": 87,
   "metadata": {},
   "outputs": [
    {
     "name": "stdout",
     "output_type": "stream",
     "text": [
      "+--------------------+-----------+----------------------+\n",
      "|         region_name|time_period|sum(sess_unauthorised)|\n",
      "+--------------------+-----------+----------------------+\n",
      "|          South West|     201819|              14394315|\n",
      "|          South East|     201819|              25125525|\n",
      "|             MISSING|     201819|              71273050|\n",
      "|       East Midlands|     201819|              14876465|\n",
      "|          North West|     201819|              27072735|\n",
      "|          North East|     201819|              10331860|\n",
      "|Yorkshire and the...|     201819|              22640265|\n",
      "|     East of England|     201819|              17721435|\n",
      "|       West Midlands|     201819|              20569760|\n",
      "|        Inner London|     201819|               9169250|\n",
      "|        Outer London|     201819|              16281015|\n",
      "|          North West|     201718|              25105800|\n",
      "|Yorkshire and the...|     201718|              21116965|\n",
      "|       West Midlands|     201718|              19792550|\n",
      "|             MISSING|     201718|              66856554|\n",
      "|          South West|     201718|              13361695|\n",
      "|       East Midlands|     201718|              14018515|\n",
      "|        Inner London|     201718|               8789055|\n",
      "|          North East|     201718|               9551895|\n",
      "|        Outer London|     201718|              15538365|\n",
      "+--------------------+-----------+----------------------+\n",
      "only showing top 20 rows\n",
      "\n"
     ]
    }
   ],
   "source": [
    "# all unauthorised absences\n",
    "p1_cols = ['region_name', 'time_period', 'sess_unauthorised']\n",
    "list_of_regions = df.select(\"region_name\").distinct().collect()\n",
    "\n",
    "df.filter(df.region_name.isin([region.region_name for region in list_of_regions]))\\\n",
    "    .filter(df.time_period > 201617)\\\n",
    "        .groupBy('region_name', 'time_period').sum('sess_unauthorised').show()"
   ]
  }
 ],
 "metadata": {
  "kernelspec": {
   "display_name": "venv",
   "language": "python",
   "name": "python3"
  },
  "language_info": {
   "codemirror_mode": {
    "name": "ipython",
    "version": 3
   },
   "file_extension": ".py",
   "mimetype": "text/x-python",
   "name": "python",
   "nbconvert_exporter": "python",
   "pygments_lexer": "ipython3",
   "version": "3.9.21"
  }
 },
 "nbformat": 4,
 "nbformat_minor": 2
}
