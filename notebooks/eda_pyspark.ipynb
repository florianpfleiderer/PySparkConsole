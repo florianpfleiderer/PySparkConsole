{
 "cells": [
  {
   "cell_type": "code",
   "execution_count": 4,
   "metadata": {},
   "outputs": [],
   "source": [
    "from pyspark.sql import SparkSession\n",
    "\n",
    "app_name = \"Absence Analysis\"\n",
    "\n",
    "spark = SparkSession.builder.master(\"local[*]\").appName(app_name).getOrCreate()"
   ]
  },
  {
   "cell_type": "code",
   "execution_count": 11,
   "metadata": {},
   "outputs": [],
   "source": [
    "# Load the data\n",
    "df = spark.read.csv('../data/raw/Absence_3term201819_nat_reg_la_sch.csv')\n",
    "df_alias = df.alias('df_alias')"
   ]
  },
  {
   "cell_type": "code",
   "execution_count": 20,
   "metadata": {},
   "outputs": [
    {
     "name": "stdout",
     "output_type": "stream",
     "text": [
      "[('_c0', 'string')]\n",
      "[('_c1', 'string')]\n",
      "[('_c2', 'string')]\n",
      "[('_c3', 'string')]\n",
      "[('_c4', 'string')]\n",
      "[('_c5', 'string')]\n",
      "[('_c6', 'string')]\n",
      "[('_c7', 'string')]\n",
      "[('_c8', 'string')]\n",
      "[('_c9', 'string')]\n",
      "[('_c10', 'string')]\n",
      "[('_c11', 'string')]\n",
      "[('_c12', 'string')]\n",
      "[('_c13', 'string')]\n",
      "[('_c14', 'string')]\n",
      "[('_c15', 'string')]\n",
      "[('_c16', 'string')]\n",
      "[('_c17', 'string')]\n",
      "[('_c18', 'string')]\n",
      "[('_c19', 'string')]\n",
      "[('_c20', 'string')]\n",
      "[('_c21', 'string')]\n",
      "[('_c22', 'string')]\n",
      "[('_c23', 'string')]\n",
      "[('_c24', 'string')]\n",
      "[('_c25', 'string')]\n",
      "[('_c26', 'string')]\n",
      "[('_c27', 'string')]\n",
      "[('_c28', 'string')]\n",
      "[('_c29', 'string')]\n",
      "[('_c30', 'string')]\n",
      "[('_c31', 'string')]\n",
      "[('_c32', 'string')]\n",
      "[('_c33', 'string')]\n",
      "[('_c34', 'string')]\n",
      "[('_c35', 'string')]\n",
      "[('_c36', 'string')]\n",
      "[('_c37', 'string')]\n",
      "[('_c38', 'string')]\n",
      "[('_c39', 'string')]\n",
      "[('_c40', 'string')]\n",
      "[('_c41', 'string')]\n",
      "[('_c42', 'string')]\n",
      "[('_c43', 'string')]\n",
      "[('_c44', 'string')]\n",
      "[('_c45', 'string')]\n",
      "[('_c46', 'string')]\n",
      "[('_c47', 'string')]\n",
      "[('_c48', 'string')]\n",
      "[('_c49', 'string')]\n",
      "[('_c50', 'string')]\n",
      "[('_c51', 'string')]\n"
     ]
    }
   ],
   "source": [
    "from pyspark.sql.functions import count, when, isnan, col\n",
    "\n",
    "# split into categorical and numerical columns\n",
    "cat_cols = list()\n",
    "num_cols = list()\n",
    "\n",
    "for i, col_ in enumerate(df.dtypes):\n",
    "    print(df.select(col_[0]).dtypes)\n",
    "    if df_alias.dtypes[i][1] == 'string':\n",
    "        cat_cols.append(col_)\n",
    "    else:\n",
    "        num_cols.append(col_)\n"
   ]
  },
  {
   "cell_type": "code",
   "execution_count": null,
   "metadata": {},
   "outputs": [],
   "source": []
  },
  {
   "cell_type": "code",
   "execution_count": null,
   "metadata": {},
   "outputs": [],
   "source": []
  }
 ],
 "metadata": {
  "kernelspec": {
   "display_name": "venv",
   "language": "python",
   "name": "python3"
  },
  "language_info": {
   "codemirror_mode": {
    "name": "ipython",
    "version": 3
   },
   "file_extension": ".py",
   "mimetype": "text/x-python",
   "name": "python",
   "nbconvert_exporter": "python",
   "pygments_lexer": "ipython3",
   "version": "3.9.21"
  }
 },
 "nbformat": 4,
 "nbformat_minor": 2
}
